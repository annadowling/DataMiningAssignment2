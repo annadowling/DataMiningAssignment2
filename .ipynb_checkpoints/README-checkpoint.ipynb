{
 "cells": [
  {
   "cell_type": "markdown",
   "metadata": {},
   "source": [
    "# Assignment 2 - Introduction"
   ]
  },
  {
   "cell_type": "markdown",
   "metadata": {},
   "source": [
    "#### Anna Dowling (Student Number: 08453713)"
   ]
  },
  {
   "cell_type": "markdown",
   "metadata": {},
   "source": [
    "The purpose of this assignment is to use clustering and classification to predict various aspects of internet users based on data collected from a survey. The various notebooks associated with this Assignment have been broken down into subdirectories listed below:"
   ]
  },
  {
   "cell_type": "markdown",
   "metadata": {},
   "source": [
    "## Clustering\n",
    "[Clustering Notebooks](../tree/clustering-notebooks)\n",
    "\n",
    "Directory contains the following files which should be run in the order listed:\n",
    "\n",
    "1. [Data PreProcessing](../tree/clustering-notebooks/Data-Pre-Processing.ipynb)\n",
    "2. [Hierarchical-Clustering-Attempt-1](../tree/clustering-notebooks/Hierarchical-Clustering-Attempt-1.ipynb)\n",
    "3. [Hierarchical-Clustering-Attempt-2](../tree/clustering-notebooks/Hierarchical-Clustering-Attempt-2.ipynb)\n",
    "4. [k-means](../tree/clustering-notebooks/K-Means-FeatureSet.ipynb)\n",
    "5. [HBDBSCan](../tree/clustering-notebooks/HDBSCAN-FeatureSet.ipynb)\n",
    "6. [GMM](../tree/clustering-notebooks/GMM-FeatureSet.ipynb)"
   ]
  },
  {
   "cell_type": "markdown",
   "metadata": {},
   "source": [
    "## Classification\n",
    "[Classification Notebooks](../tree/classification-notebooks)\n",
    "\n",
    "Directory contains the following files which should be run in the order listed:\n",
    "\n",
    "1. [Feature Selection](../tree/classification-notebooks/FeatureSelection-Classification.ipynb)\n",
    "2. [K-nearest Major Occupation](../tree/classification-notebooks/k-nearest-neighbor-major-occupation.ipynb)\n",
    "3. [K-nearest Education Attainment](../tree/classification-notebooks/k-nearest-neighbor-education-attainment.ipynb)\n",
    "4. [Decision Tree Major Occupation](../tree/classification-notebooks/DecisionTree-MajorOccupation.ipynb)\n",
    "5. [Decision Tree Education Attainment](../tree/classification-notebooks/DecisionTree-EducationAttainment.ipynb)\n",
    "6. [RandomForest Major Occupation](../tree/classification-notebooks/RandomForest-Major-Occupation.ipynb)\n",
    "7. [RandomForest Education Attainment](../tree/classification-notebooks/RandomForest-Education-Attainment.ipynb)\n",
    "\n",
    "All associated output files can also be found in this directory: [Classification Notebooks](../tree/classification-notebooks)"
   ]
  }
 ],
 "metadata": {
  "kernelspec": {
   "display_name": "Python 3",
   "language": "python",
   "name": "python3"
  },
  "language_info": {
   "codemirror_mode": {
    "name": "ipython",
    "version": 3
   },
   "file_extension": ".py",
   "mimetype": "text/x-python",
   "name": "python",
   "nbconvert_exporter": "python",
   "pygments_lexer": "ipython3",
   "version": "3.7.2"
  }
 },
 "nbformat": 4,
 "nbformat_minor": 1
}
