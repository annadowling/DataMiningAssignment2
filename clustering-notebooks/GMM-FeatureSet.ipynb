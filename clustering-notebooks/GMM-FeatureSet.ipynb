{
 "cells": [
  {
   "cell_type": "markdown",
   "metadata": {},
   "source": [
    "## Clustering Task 2 - GMM"
   ]
  },
  {
   "cell_type": "code",
   "execution_count": 10,
   "metadata": {},
   "outputs": [
    {
     "name": "stdout",
     "output_type": "stream",
     "text": [
      "0.055268049240112305\n",
      "0.13936686515808105\n"
     ]
    },
    {
     "data": {
      "image/png": "[encoded data removed]",
      "text/plain": [
       "<Figure size 432x288 with 1 Axes>"
      ]
     },
     "metadata": {
      "needs_background": "light"
     },
     "output_type": "display_data"
    }
   ],
   "source": [
    "import pandas as pd\n",
    "import numpy as np\n",
    "import matplotlib.pyplot as plt\n",
    "import seaborn as sns\n",
    "import sklearn.cluster as cluster\n",
    "import time\n",
    "import sklearn.mixture as mixture\n",
    "\n",
    "import sys\n",
    "sys.path.append('../resources')\n",
    "import w8support as w8s\n",
    "\n",
    "# Make sure the pic subdirectory exists\n",
    "import os, errno\n",
    "try:\n",
    "    os.makedirs('pic')\n",
    "except OSError as e:\n",
    "    if e.errno != errno.EEXIST:\n",
    "        raise\n",
    "\n",
    "%matplotlib inline\n",
    "\n",
    "sns.set_context('poster')\n",
    "sns.set_color_codes()\n",
    "plot_kwds = {'alpha' : 0.25, 's' : 15, 'linewidths':0}\n",
    "paletteName = 'deep'\n",
    "fontSize = 10\n",
    "fc = '#cccccc'\n",
    "\n",
    "featureSub = pd.read_csv(\"oheTransformedData.csv\")\n",
    "nClusters = 6\n",
    "\n",
    "from sklearn.decomposition import PCA\n",
    "pca = PCA(0.99, whiten=True)\n",
    "data = pca.fit_transform(featureSub)\n",
    "data.shape\n",
    "\n",
    "# import originalFeatureSubset for use with label assignment\n",
    "originalFeatureSubset = pd.read_csv(\"originalFeatureSubset.csv\")\n",
    "\n",
    "algName = \"GaussianMixture\"\n",
    "for covType in ['spherical', 'full']:\n",
    "    clusterParams = {'n_components':nClusters, 'covariance_type':covType, 'max_iter':100, 'random_state':0}\n",
    "    start_time = time.time()\n",
    "    gaussianMixture = mixture.GaussianMixture(**clusterParams)\n",
    "    #print(dir(gaussianMixture))\n",
    "    labels = gaussianMixture.fit(data).predict(data)\n",
    "    \n",
    "    # Add cluster labels to original dataframe for review and interpretation of cluster results.\n",
    "    originalFeatureSubset['CLUSTERS'] = pd.Series(labels, index=originalFeatureSubset.index)\n",
    "    \n",
    "    # Subsequently, this will be invoked using a function call of the form\n",
    "    # gaussianMixture, labels = w8s.fitClusterLabels(data, mixture.GaussianMixture, (), clusterParams)\n",
    "    end_time = time.time()\n",
    "    elapsed_time = end_time-start_time\n",
    "    print(elapsed_time)\n",
    "    #plt, elapsed_time = w8s.plot_clusters(data, mixture.GaussianMixture, (), clusterParams, plot_kwds)\n",
    "    \n",
    "    plt.clf() # Start new plot\n",
    "    title = '{} Clusters found by {}'.format(str(nClusters),algName)\n",
    "    plt = w8s.plot_2dClusters(data, labels, title, paletteName, fontSize, plot_kwds)\n",
    "    outFile = 'pic/{}{}_{}_generated.pdf'.format(algName,str(nClusters),covType)\n",
    "    plt.savefig(outFile)\n",
    "\n",
    "    title = '{} Clusters (with regions) found by {}'.format(str(nClusters),algName)\n",
    "    weights = gaussianMixture.weights_\n",
    "    means = gaussianMixture.means_\n",
    "    covariances = gaussianMixture.covariances_\n",
    "    plt = w8s.overlayEllipses(plt, weights, means, covariances)\n",
    "    outFile = 'pic/{}{}_{}_withEllipses_generated.pdf'.format(algName,str(nClusters),covType)\n",
    "    plt.savefig(outFile)"
   ]
  },
  {
   "cell_type": "code",
   "execution_count": 11,
   "metadata": {},
   "outputs": [
    {
     "data": {
      "text/html": [
       "<div>\n",
       "<style scoped>\n",
       "    .dataframe tbody tr th:only-of-type {\n",
       "        vertical-align: middle;\n",
       "    }\n",
       "\n",
       "    .dataframe tbody tr th {\n",
       "        vertical-align: top;\n",
       "    }\n",
       "\n",
       "    .dataframe thead th {\n",
       "        text-align: right;\n",
       "    }\n",
       "</style>\n",
       "<table border=\"1\" class=\"dataframe\">\n",
       "  <thead>\n",
       "    <tr style=\"text-align: right;\">\n",
       "      <th></th>\n",
       "      <th>who</th>\n",
       "      <th>Years_on_Internet</th>\n",
       "      <th>Web_Ordering</th>\n",
       "      <th>Age</th>\n",
       "      <th>Not_Purchasing_Too_complicated</th>\n",
       "      <th>Not_Purchasing_Prefer_people</th>\n",
       "      <th>Not_Purchasing_Privacy</th>\n",
       "      <th>Not_Purchasing_Security</th>\n",
       "      <th>Not_Purchasing_Easier_locally</th>\n",
       "      <th>CLUSTERS</th>\n",
       "    </tr>\n",
       "  </thead>\n",
       "  <tbody>\n",
       "    <tr>\n",
       "      <th>0</th>\n",
       "      <td>93819</td>\n",
       "      <td>1-3_yr</td>\n",
       "      <td>Yes</td>\n",
       "      <td>41</td>\n",
       "      <td>0</td>\n",
       "      <td>0</td>\n",
       "      <td>0</td>\n",
       "      <td>0</td>\n",
       "      <td>0</td>\n",
       "      <td>1</td>\n",
       "    </tr>\n",
       "    <tr>\n",
       "      <th>1</th>\n",
       "      <td>95708</td>\n",
       "      <td>Under_6_mo</td>\n",
       "      <td>Yes</td>\n",
       "      <td>28</td>\n",
       "      <td>0</td>\n",
       "      <td>0</td>\n",
       "      <td>0</td>\n",
       "      <td>1</td>\n",
       "      <td>0</td>\n",
       "      <td>0</td>\n",
       "    </tr>\n",
       "    <tr>\n",
       "      <th>2</th>\n",
       "      <td>97218</td>\n",
       "      <td>1-3_yr</td>\n",
       "      <td>Yes</td>\n",
       "      <td>25</td>\n",
       "      <td>0</td>\n",
       "      <td>0</td>\n",
       "      <td>1</td>\n",
       "      <td>0</td>\n",
       "      <td>1</td>\n",
       "      <td>4</td>\n",
       "    </tr>\n",
       "    <tr>\n",
       "      <th>3</th>\n",
       "      <td>91627</td>\n",
       "      <td>1-3_yr</td>\n",
       "      <td>Yes</td>\n",
       "      <td>28</td>\n",
       "      <td>0</td>\n",
       "      <td>0</td>\n",
       "      <td>0</td>\n",
       "      <td>0</td>\n",
       "      <td>0</td>\n",
       "      <td>1</td>\n",
       "    </tr>\n",
       "    <tr>\n",
       "      <th>4</th>\n",
       "      <td>49906</td>\n",
       "      <td>1-3_yr</td>\n",
       "      <td>Yes</td>\n",
       "      <td>17</td>\n",
       "      <td>0</td>\n",
       "      <td>0</td>\n",
       "      <td>0</td>\n",
       "      <td>0</td>\n",
       "      <td>0</td>\n",
       "      <td>1</td>\n",
       "    </tr>\n",
       "  </tbody>\n",
       "</table>\n",
       "</div>"
      ],
      "text/plain": [
       "     who Years_on_Internet Web_Ordering  Age  Not_Purchasing_Too_complicated  \\\n",
       "0  93819            1-3_yr          Yes   41                               0   \n",
       "1  95708        Under_6_mo          Yes   28                               0   \n",
       "2  97218            1-3_yr          Yes   25                               0   \n",
       "3  91627            1-3_yr          Yes   28                               0   \n",
       "4  49906            1-3_yr          Yes   17                               0   \n",
       "\n",
       "   Not_Purchasing_Prefer_people  Not_Purchasing_Privacy  \\\n",
       "0                             0                       0   \n",
       "1                             0                       0   \n",
       "2                             0                       1   \n",
       "3                             0                       0   \n",
       "4                             0                       0   \n",
       "\n",
       "   Not_Purchasing_Security  Not_Purchasing_Easier_locally  CLUSTERS  \n",
       "0                        0                              0         1  \n",
       "1                        1                              0         0  \n",
       "2                        0                              1         4  \n",
       "3                        0                              0         1  \n",
       "4                        0                              0         1  "
      ]
     },
     "execution_count": 11,
     "metadata": {},
     "output_type": "execute_result"
    }
   ],
   "source": [
    "# Check cluster column is present in dataframe.\n",
    "originalFeatureSubset.head(5)"
   ]
  },
  {
   "cell_type": "markdown",
   "metadata": {},
   "source": [
    "### Analyse GMM cluster groups\n",
    "Now lets look at which features trend in to which clusters.\n",
    "\n",
    "We will start with the boolean inputs:"
   ]
  },
  {
   "cell_type": "code",
   "execution_count": 12,
   "metadata": {},
   "outputs": [
    {
     "name": "stdout",
     "output_type": "stream",
     "text": [
      "CLUSTER 0 COUNT IS: 93 for feature: Not_Purchasing_Too_complicated\n",
      "CLUSTER 0 COUNT IS: 238 for feature: Not_Purchasing_Prefer_people\n",
      "CLUSTER 0 COUNT IS: 945 for feature: Not_Purchasing_Privacy\n",
      "CLUSTER 0 COUNT IS: 1171 for feature: Not_Purchasing_Security\n",
      "CLUSTER 0 COUNT IS: 312 for feature: Not_Purchasing_Easier_locally\n",
      "************************************************************\n",
      "CLUSTER 1 COUNT IS: 45 for feature: Not_Purchasing_Too_complicated\n",
      "CLUSTER 1 COUNT IS: 0 for feature: Not_Purchasing_Prefer_people\n",
      "CLUSTER 1 COUNT IS: 0 for feature: Not_Purchasing_Privacy\n",
      "CLUSTER 1 COUNT IS: 0 for feature: Not_Purchasing_Security\n",
      "CLUSTER 1 COUNT IS: 376 for feature: Not_Purchasing_Easier_locally\n",
      "************************************************************\n",
      "CLUSTER 2 COUNT IS: 46 for feature: Not_Purchasing_Too_complicated\n",
      "CLUSTER 2 COUNT IS: 239 for feature: Not_Purchasing_Prefer_people\n",
      "CLUSTER 2 COUNT IS: 568 for feature: Not_Purchasing_Privacy\n",
      "CLUSTER 2 COUNT IS: 828 for feature: Not_Purchasing_Security\n",
      "CLUSTER 2 COUNT IS: 210 for feature: Not_Purchasing_Easier_locally\n",
      "************************************************************\n",
      "CLUSTER 3 COUNT IS: 147 for feature: Not_Purchasing_Too_complicated\n",
      "CLUSTER 3 COUNT IS: 366 for feature: Not_Purchasing_Prefer_people\n",
      "CLUSTER 3 COUNT IS: 716 for feature: Not_Purchasing_Privacy\n",
      "CLUSTER 3 COUNT IS: 1066 for feature: Not_Purchasing_Security\n",
      "CLUSTER 3 COUNT IS: 436 for feature: Not_Purchasing_Easier_locally\n",
      "************************************************************\n",
      "CLUSTER 4 COUNT IS: 138 for feature: Not_Purchasing_Too_complicated\n",
      "CLUSTER 4 COUNT IS: 333 for feature: Not_Purchasing_Prefer_people\n",
      "CLUSTER 4 COUNT IS: 453 for feature: Not_Purchasing_Privacy\n",
      "CLUSTER 4 COUNT IS: 771 for feature: Not_Purchasing_Security\n",
      "CLUSTER 4 COUNT IS: 530 for feature: Not_Purchasing_Easier_locally\n",
      "************************************************************\n",
      "CLUSTER 5 COUNT IS: 87 for feature: Not_Purchasing_Too_complicated\n",
      "CLUSTER 5 COUNT IS: 186 for feature: Not_Purchasing_Prefer_people\n",
      "CLUSTER 5 COUNT IS: 374 for feature: Not_Purchasing_Privacy\n",
      "CLUSTER 5 COUNT IS: 536 for feature: Not_Purchasing_Security\n",
      "CLUSTER 5 COUNT IS: 249 for feature: Not_Purchasing_Easier_locally\n",
      "************************************************************\n"
     ]
    }
   ],
   "source": [
    "for x in [0, 1, 2, 3, 4, 5]:\n",
    "    for col in ['Not_Purchasing_Too_complicated', 'Not_Purchasing_Prefer_people','Not_Purchasing_Privacy', 'Not_Purchasing_Security', 'Not_Purchasing_Easier_locally']:\n",
    "        clusterName = str(x)\n",
    "        rowCount = str(len(originalFeatureSubset.loc[(originalFeatureSubset[col]) & (originalFeatureSubset.CLUSTERS == x)]))\n",
    "\n",
    "        print('CLUSTER ' + clusterName + ' COUNT IS: ' + rowCount + ' for feature: ' + col)\n",
    "    print('************************************************************')"
   ]
  },
  {
   "cell_type": "code",
   "execution_count": 13,
   "metadata": {},
   "outputs": [
    {
     "data": {
      "text/plain": [
       "CLUSTERS\n",
       "0    35.250578\n",
       "1    34.804708\n",
       "2    48.201022\n",
       "3    22.690570\n",
       "4    25.659853\n",
       "5    51.871337\n",
       "Name: Age, dtype: float64"
      ]
     },
     "execution_count": 13,
     "metadata": {},
     "output_type": "execute_result"
    }
   ],
   "source": [
    "# We get the average age per cluster next to aid in the age exploration on this feature subset\n",
    "originalFeatureSubset.groupby(['CLUSTERS'])['Age'].mean()"
   ]
  },
  {
   "cell_type": "code",
   "execution_count": 14,
   "metadata": {},
   "outputs": [
    {
     "data": {
      "image/png": "[encoded data removed]",
      "text/plain": [
       "<Figure size 432x288 with 1 Axes>"
      ]
     },
     "metadata": {
      "needs_background": "light"
     },
     "output_type": "display_data"
    }
   ],
   "source": [
    "import matplotlib.pyplot as plt\n",
    "plt.scatter(originalFeatureSubset['CLUSTERS'], originalFeatureSubset['Age'],)\n",
    "plt.title(\"Average Age per Cluster\")\n",
    "plt.xlabel(\"CLUSTERS\")\n",
    "plt.ylabel(\"Age\")\n",
    "plt.show() # Depending on whether you use IPython or interactive mode, etc."
   ]
  },
  {
   "cell_type": "code",
   "execution_count": 15,
   "metadata": {},
   "outputs": [
    {
     "data": {
      "text/plain": [
       "array(['1-3_yr', 'Under_6_mo', '4-6_yr', '6-12_mo', 'Over_7_yr'],\n",
       "      dtype=object)"
      ]
     },
     "execution_count": 15,
     "metadata": {},
     "output_type": "execute_result"
    }
   ],
   "source": [
    "# Next we check the Years_on_Internet options in the dataset for use with grouping for the clusters\n",
    "originalFeatureSubset.Years_on_Internet.unique()"
   ]
  },
  {
   "cell_type": "code",
   "execution_count": 16,
   "metadata": {},
   "outputs": [
    {
     "name": "stdout",
     "output_type": "stream",
     "text": [
      "CLUSTER 0 COUNT IS: 394 for feature: 1-3_yr for Years_on_Internet\n",
      "CLUSTER 0 COUNT IS: 291 for feature: Under_6_mo for Years_on_Internet\n",
      "CLUSTER 0 COUNT IS: 180 for feature: 4-6_yr for Years_on_Internet\n",
      "CLUSTER 0 COUNT IS: 325 for feature: 6-12_mo for Years_on_Internet\n",
      "CLUSTER 0 COUNT IS: 107 for feature: Over_7_yr for Years_on_Internet\n",
      "************************************************************\n",
      "CLUSTER 1 COUNT IS: 1427 for feature: 1-3_yr for Years_on_Internet\n",
      "CLUSTER 1 COUNT IS: 0 for feature: Under_6_mo for Years_on_Internet\n",
      "CLUSTER 1 COUNT IS: 867 for feature: 4-6_yr for Years_on_Internet\n",
      "CLUSTER 1 COUNT IS: 0 for feature: 6-12_mo for Years_on_Internet\n",
      "CLUSTER 1 COUNT IS: 0 for feature: Over_7_yr for Years_on_Internet\n",
      "************************************************************\n",
      "CLUSTER 2 COUNT IS: 287 for feature: 1-3_yr for Years_on_Internet\n",
      "CLUSTER 2 COUNT IS: 445 for feature: Under_6_mo for Years_on_Internet\n",
      "CLUSTER 2 COUNT IS: 67 for feature: 4-6_yr for Years_on_Internet\n",
      "CLUSTER 2 COUNT IS: 353 for feature: 6-12_mo for Years_on_Internet\n",
      "CLUSTER 2 COUNT IS: 22 for feature: Over_7_yr for Years_on_Internet\n",
      "************************************************************\n",
      "CLUSTER 3 COUNT IS: 781 for feature: 1-3_yr for Years_on_Internet\n",
      "CLUSTER 3 COUNT IS: 586 for feature: Under_6_mo for Years_on_Internet\n",
      "CLUSTER 3 COUNT IS: 238 for feature: 4-6_yr for Years_on_Internet\n",
      "CLUSTER 3 COUNT IS: 368 for feature: 6-12_mo for Years_on_Internet\n",
      "CLUSTER 3 COUNT IS: 63 for feature: Over_7_yr for Years_on_Internet\n",
      "************************************************************\n",
      "CLUSTER 4 COUNT IS: 599 for feature: 1-3_yr for Years_on_Internet\n",
      "CLUSTER 4 COUNT IS: 234 for feature: Under_6_mo for Years_on_Internet\n",
      "CLUSTER 4 COUNT IS: 365 for feature: 4-6_yr for Years_on_Internet\n",
      "CLUSTER 4 COUNT IS: 373 for feature: 6-12_mo for Years_on_Internet\n",
      "CLUSTER 4 COUNT IS: 337 for feature: Over_7_yr for Years_on_Internet\n",
      "************************************************************\n",
      "CLUSTER 5 COUNT IS: 377 for feature: 1-3_yr for Years_on_Internet\n",
      "CLUSTER 5 COUNT IS: 301 for feature: Under_6_mo for Years_on_Internet\n",
      "CLUSTER 5 COUNT IS: 121 for feature: 4-6_yr for Years_on_Internet\n",
      "CLUSTER 5 COUNT IS: 426 for feature: 6-12_mo for Years_on_Internet\n",
      "CLUSTER 5 COUNT IS: 174 for feature: Over_7_yr for Years_on_Internet\n",
      "************************************************************\n"
     ]
    }
   ],
   "source": [
    "# Next lets view results per cluster for most populate answer to Years_on_Internet\n",
    "for x in [0, 1, 2, 3, 4, 5]:\n",
    "    for result in ['1-3_yr', 'Under_6_mo', '4-6_yr', '6-12_mo', 'Over_7_yr']:\n",
    "        clusterName = str(x)\n",
    "        rowCount = str(len(originalFeatureSubset[originalFeatureSubset['Years_on_Internet'].str.contains(result) & (originalFeatureSubset.CLUSTERS == x)]))\n",
    "\n",
    "        print('CLUSTER ' + clusterName + ' COUNT IS: ' + rowCount + ' for feature: ' + result + ' for Years_on_Internet')\n",
    "    print('************************************************************')"
   ]
  },
  {
   "cell_type": "code",
   "execution_count": 17,
   "metadata": {},
   "outputs": [
    {
     "data": {
      "text/plain": [
       "array(['Yes', 'No', 'Dont_know'], dtype=object)"
      ]
     },
     "execution_count": 17,
     "metadata": {},
     "output_type": "execute_result"
    }
   ],
   "source": [
    "# Next we double check the Web_Ordering options in the dataset are just Yes / No / Dont_know for use with grouping for the clusters\n",
    "originalFeatureSubset.Web_Ordering.unique()"
   ]
  },
  {
   "cell_type": "code",
   "execution_count": 18,
   "metadata": {},
   "outputs": [
    {
     "name": "stdout",
     "output_type": "stream",
     "text": [
      "CLUSTER 0 COUNT IS: 1247 for feature: Yes for Web_Ordering\n",
      "CLUSTER 0 COUNT IS: 23 for feature: No for Web_Ordering\n",
      "CLUSTER 0 COUNT IS: 27 for feature: Dont_know for Web_Ordering\n",
      "************************************************************\n",
      "CLUSTER 1 COUNT IS: 2294 for feature: Yes for Web_Ordering\n",
      "CLUSTER 1 COUNT IS: 0 for feature: No for Web_Ordering\n",
      "CLUSTER 1 COUNT IS: 0 for feature: Dont_know for Web_Ordering\n",
      "************************************************************\n",
      "CLUSTER 2 COUNT IS: 1 for feature: Yes for Web_Ordering\n",
      "CLUSTER 2 COUNT IS: 1170 for feature: No for Web_Ordering\n",
      "CLUSTER 2 COUNT IS: 3 for feature: Dont_know for Web_Ordering\n",
      "************************************************************\n",
      "CLUSTER 3 COUNT IS: 53 for feature: Yes for Web_Ordering\n",
      "CLUSTER 3 COUNT IS: 1960 for feature: No for Web_Ordering\n",
      "CLUSTER 3 COUNT IS: 23 for feature: Dont_know for Web_Ordering\n",
      "************************************************************\n",
      "CLUSTER 4 COUNT IS: 1895 for feature: Yes for Web_Ordering\n",
      "CLUSTER 4 COUNT IS: 0 for feature: No for Web_Ordering\n",
      "CLUSTER 4 COUNT IS: 13 for feature: Dont_know for Web_Ordering\n",
      "************************************************************\n",
      "CLUSTER 5 COUNT IS: 1398 for feature: Yes for Web_Ordering\n",
      "CLUSTER 5 COUNT IS: 0 for feature: No for Web_Ordering\n",
      "CLUSTER 5 COUNT IS: 1 for feature: Dont_know for Web_Ordering\n",
      "************************************************************\n"
     ]
    }
   ],
   "source": [
    "# Next lets view results per cluster for most populate answer to Web Ordering\n",
    "for x in [0, 1, 2, 3, 4, 5]:\n",
    "    for result in ['Yes', 'No', 'Dont_know']:\n",
    "        clusterName = str(x)\n",
    "        rowCount = str(len(originalFeatureSubset[originalFeatureSubset['Web_Ordering'].str.contains(result) & (originalFeatureSubset.CLUSTERS == x)]))\n",
    "\n",
    "        print('CLUSTER ' + clusterName + ' COUNT IS: ' + rowCount + ' for feature: ' + result + ' for Web_Ordering')\n",
    "    print('************************************************************')"
   ]
  },
  {
   "cell_type": "markdown",
   "metadata": {},
   "source": [
    "### GMM Results Summary for Clusters for Age Related Web Purchasing Features.\n",
    "For each cluster I have taken the approach of pulling the largest values for each clusters based on what has been analysed above.\n",
    "\n",
    "### cluster 0\n",
    "* Average age of candidates for cluster 0 was 35.\n",
    "* This candidates main concern for not purchasing something was Not_Purchasing_Security (1171).\n",
    "* This candidates typical Years_on_Internet was 1-3_yr (394).\n",
    "* Most answered Yes for Web_Ordering for this candidate (1247).\n",
    "\n",
    "### cluster 1\n",
    "* Average age of candidates for cluster 1 was 34.\n",
    "* This candidates main concern for not purchasing something was Not_Purchasing_Easier_locally (376).\n",
    "* This candidates typical Years_on_Internet was 1-3_yr (1427).\n",
    "* Most answered Yes for Web_Ordering for this candidate (2294).\n",
    "\n",
    "### cluster 2\n",
    "* Average age of candidates for cluster 2 was 48.\n",
    "* This candidates main concern for not purchasing something was Not_Purchasing_Security (828).\n",
    "* This candidates typical Years_on_Internet was Under_6_mo (445).\n",
    "* Most answered No for Web_Ordering for this candidate (1170).\n",
    "\n",
    "### cluster 3\n",
    "* Average age of candidates for cluster 3 was 22.\n",
    "* This candidates main concern for not purchasing something was Not_Purchasing_Security (1066).\n",
    "* This candidates typical Years_on_Internet was 1-3_yr (781).\n",
    "* Most answered No for Web_Ordering for this candidate (1960).\n",
    "\n",
    "### cluster 4\n",
    "* Average age of candidates for cluster 4 was 25.\n",
    "* This candidates main concern for not purchasing something was Not_Purchasing_Security (771).\n",
    "* This candidates typical Years_on_Internet was 1-3_yr (599).\n",
    "* Most answered Yes for Web_Ordering for this candidate (1895).\n",
    "\n",
    "### cluster 5\n",
    "* Average age of candidates for cluster 5 was 51.\n",
    "* This candidates main concern for not purchasing something was Not_Purchasing_Security (536).\n",
    "* This candidates typical Years_on_Internet was 6-12_mo (426).\n",
    "* Most answered Yes for Web_Ordering for this candidate (1398)."
   ]
  },
  {
   "cell_type": "markdown",
   "metadata": {},
   "source": [
    "## Advantages / Disadvantages of GMM for Internet Usage DataSet:\n",
    "\n",
    "### Advantages\t\n",
    "\n",
    "* Ability to vary co-variance provides more flexibility. \n",
    "* It is a fast algorithm to use for comparing mixture models.\n",
    "* Because the algorithm maximizes only the likelihood of a result, it will not bias the means towards zero, or bias the cluster sizes to have specific structures that might or might not apply.\n",
    "\n",
    "### Disavantages\n",
    "* Again, the user has to set the number of mixture models to perform on.\n",
    "* From the resultset scatterplot, it is clear that struggles to get the boundaries correct. There is a lot of overlap. This nClusters was adjusted between 3, 4, 5 and 6 with little improvement on this, so 6 was chosen.\n",
    "* From the results, k-means still looks clearer in terms of looking at clear cluster distances even though GMM is supposedly an improved version of k-means.\n",
    "* Computation is known to not be as effective if dimensionality of the data is too high.\n",
    "\n"
   ]
  }
 ],
 "metadata": {
  "kernelspec": {
   "display_name": "Python 3",
   "language": "python",
   "name": "python3"
  },
  "language_info": {
   "codemirror_mode": {
    "name": "ipython",
    "version": 3
   },
   "file_extension": ".py",
   "mimetype": "text/x-python",
   "name": "python",
   "nbconvert_exporter": "python",
   "pygments_lexer": "ipython3",
   "version": "3.7.2"
  }
 },
 "nbformat": 4,
 "nbformat_minor": 2
}
