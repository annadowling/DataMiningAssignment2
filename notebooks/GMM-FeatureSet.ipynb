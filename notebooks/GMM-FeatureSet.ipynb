{
 "cells": [
  {
   "cell_type": "markdown",
   "metadata": {},
   "source": [
    "## Background"
   ]
  },
  {
   "cell_type": "code",
   "execution_count": 1,
   "metadata": {},
   "outputs": [],
   "source": [
    "import pandas as pd"
   ]
  },
  {
   "cell_type": "markdown",
   "metadata": {},
   "source": [
    "## Clustering Task 2 - GMM"
   ]
  },
  {
   "cell_type": "code",
   "execution_count": 2,
   "metadata": {},
   "outputs": [
    {
     "name": "stdout",
     "output_type": "stream",
     "text": [
      "0.06555914878845215\n",
      "0.12665677070617676\n"
     ]
    },
    {
     "data": {
      "image/png": "[encoded data removed]",
      "text/plain": [
       "<Figure size 432x288 with 1 Axes>"
      ]
     },
     "metadata": {
      "needs_background": "light"
     },
     "output_type": "display_data"
    }
   ],
   "source": [
    "import numpy as np\n",
    "import matplotlib.pyplot as plt\n",
    "import seaborn as sns\n",
    "import sklearn.cluster as cluster\n",
    "import time\n",
    "import sklearn.mixture as mixture\n",
    "\n",
    "import sys\n",
    "sys.path.append('../resources')\n",
    "import w8support as w8s\n",
    "\n",
    "# Make sure the pic subdirectory exists\n",
    "import os, errno\n",
    "try:\n",
    "    os.makedirs('pic')\n",
    "except OSError as e:\n",
    "    if e.errno != errno.EEXIST:\n",
    "        raise\n",
    "\n",
    "%matplotlib inline\n",
    "\n",
    "sns.set_context('poster')\n",
    "sns.set_color_codes()\n",
    "plot_kwds = {'alpha' : 0.25, 's' : 15, 'linewidths':0}\n",
    "paletteName = 'deep'\n",
    "fontSize = 10\n",
    "fc = '#cccccc'\n",
    "\n",
    "featureSub = pd.read_csv(\"oheTransformedData.csv\")\n",
    "nClusters = 6\n",
    "\n",
    "from sklearn.decomposition import PCA\n",
    "pca = PCA(0.99, whiten=True)\n",
    "data = pca.fit_transform(featureSub)\n",
    "data.shape\n",
    "\n",
    "\n",
    "algName = \"GaussianMixture\"\n",
    "for covType in ['spherical', 'full']:\n",
    "    clusterParams = {'n_components':6, 'covariance_type':covType, 'max_iter':100, 'random_state':0}\n",
    "    start_time = time.time()\n",
    "    gaussianMixture = mixture.GaussianMixture(**clusterParams)\n",
    "    #print(dir(gaussianMixture))\n",
    "    labels = gaussianMixture.fit(data).predict(data)\n",
    "    # Subsequently, this will be invoked using a function call of the form\n",
    "    # gaussianMixture, labels = w8s.fitClusterLabels(data, mixture.GaussianMixture, (), clusterParams)\n",
    "    end_time = time.time()\n",
    "    elapsed_time = end_time-start_time\n",
    "    print(elapsed_time)\n",
    "    #plt, elapsed_time = w8s.plot_clusters(data, mixture.GaussianMixture, (), clusterParams, plot_kwds)\n",
    "    \n",
    "    plt.clf() # Start new plot\n",
    "    title = '{} Clusters found by {}'.format(str(nClusters),algName)\n",
    "    plt = w8s.plot_2dClusters(data, labels, title, paletteName, fontSize, plot_kwds)\n",
    "    outFile = 'pic/{}{}_{}_generated.pdf'.format(algName,str(nClusters),covType)\n",
    "    plt.savefig(outFile)\n",
    "\n",
    "    title = '{} Clusters (with regions) found by {}'.format(str(nClusters),algName)\n",
    "    weights = gaussianMixture.weights_\n",
    "    means = gaussianMixture.means_\n",
    "    covariances = gaussianMixture.covariances_\n",
    "    plt = w8s.overlayEllipses(plt, weights, means, covariances)\n",
    "    outFile = 'pic/{}{}_{}_withEllipses_generated.pdf'.format(algName,str(nClusters),covType)\n",
    "    plt.savefig(outFile)"
   ]
  }
 ],
 "metadata": {
  "kernelspec": {
   "display_name": "Python 3",
   "language": "python",
   "name": "python3"
  },
  "language_info": {
   "codemirror_mode": {
    "name": "ipython",
    "version": 3
   },
   "file_extension": ".py",
   "mimetype": "text/x-python",
   "name": "python",
   "nbconvert_exporter": "python",
   "pygments_lexer": "ipython3",
   "version": "3.7.2"
  }
 },
 "nbformat": 4,
 "nbformat_minor": 2
}
