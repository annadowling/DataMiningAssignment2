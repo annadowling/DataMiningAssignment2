{
 "cells": [
  {
   "cell_type": "markdown",
   "metadata": {},
   "source": [
    "# Data Pre-Processing"
   ]
  },
  {
   "cell_type": "markdown",
   "metadata": {},
   "source": [
    "## Introduction\n",
    "We have already prepared the cleaned dataframe from the clustering phase so this can now be imported and split into seperate dataframes per use with our predictos Major Occupation and Education_Attainment. I will also perform one hot enconding on the selected columns for use with classification."
   ]
  },
  {
   "cell_type": "code",
   "execution_count": 12,
   "metadata": {},
   "outputs": [],
   "source": [
    "import pandas as pd"
   ]
  },
  {
   "cell_type": "code",
   "execution_count": 13,
   "metadata": {},
   "outputs": [
    {
     "data": {
      "text/plain": [
       "RangeIndex(start=0, stop=10108, step=1)"
      ]
     },
     "execution_count": 13,
     "metadata": {},
     "output_type": "execute_result"
    }
   ],
   "source": [
    "from scipy.io import arff\n",
    "df = pd.read_csv('../resources/originalCleanedDataFrame.csv')\n",
    "df.head()\n",
    "\n",
    "df.index"
   ]
  },
  {
   "cell_type": "markdown",
   "metadata": {},
   "source": [
    "Next we want to prepare our two dataframe for Major Occupation versus Education_Attainment with the original feature selection options we used in the Clustering phase."
   ]
  },
  {
   "cell_type": "code",
   "execution_count": 14,
   "metadata": {},
   "outputs": [],
   "source": [
    "# Copy out original feature set for use with reading classification results later.\n",
    "educationFeatureSubset = df[['Education_Attainment', 'Years_on_Internet', 'Web_Ordering','Age', 'Not_Purchasing_Too_complicated', 'Not_Purchasing_Prefer_people','Not_Purchasing_Privacy', 'Not_Purchasing_Security', 'Not_Purchasing_Easier_locally']].copy()\n",
    "# Copy out original feature set for use with reading classification results later.\n",
    "occupationFeatureSubset = df[['Major_Occupation', 'Years_on_Internet', 'Web_Ordering','Age', 'Not_Purchasing_Too_complicated', 'Not_Purchasing_Prefer_people','Not_Purchasing_Privacy', 'Not_Purchasing_Security', 'Not_Purchasing_Easier_locally']].copy()\n",
    "\n",
    "# Assign the index so that it matches that of the original df\n",
    "educationFeatureSubset.set_axis(df.index, axis='index', inplace=True)\n",
    "occupationFeatureSubset.set_axis(df.index, axis='index', inplace=True)\n",
    "\n",
    "#Replace Age Columns which are not an integer.\n",
    "educationFeatureSubset = educationFeatureSubset.replace('Not_Say', 0)\n",
    "occupationFeatureSubset = occupationFeatureSubset.replace('Not_Say', 0)\n",
    "\n",
    "#EXPORT to CSV the original feature subset for use with reading classification results later in other algorithms.\n",
    "educationFeatureSubset.to_csv('educationFeatureSubset.csv', encoding='utf-8')\n",
    "occupationFeatureSubset.to_csv('occupationFeatureSubset.csv', encoding='utf-8')"
   ]
  },
  {
   "cell_type": "markdown",
   "metadata": {},
   "source": [
    "## Data Preparation for use in Classification\n"
   ]
  },
  {
   "cell_type": "markdown",
   "metadata": {},
   "source": [
    "### Data Encoding\n",
    "This section will prepare data by use of one hot encoding to convert all column values to numeric for use with classification algorithms."
   ]
  },
  {
   "cell_type": "code",
   "execution_count": 15,
   "metadata": {},
   "outputs": [
    {
     "name": "stdout",
     "output_type": "stream",
     "text": [
      "['Web_Ordering', 'Years_on_Internet', 'Race', 'Marital_Status', 'Sexual_Preference', 'Registered_to_Vote', 'Major_Geographical_Location', 'Gender']\n",
      "['Age', 'Opinions_on_Censorship']\n"
     ]
    }
   ],
   "source": [
    "from sklearn.preprocessing import OneHotEncoder\n",
    "import random\n",
    "\n",
    "featureStringCols = ['Years_on_Internet', 'Web_Ordering', 'Marital_Status', 'Gender', 'Major_Geographical_Location', 'Race', 'Registered_to_Vote', 'Sexual_Preference']\n",
    "#featureBoolCols = ['Not_Purchasing_Too_complicated', 'Not_Purchasing_Prefer_people',\n",
    "                                #'Not_Purchasing_Privacy', 'Not_Purchasing_Security', 'Not_Purchasing_Easier_locally']\n",
    "featureIntCols = ['Age', 'Opinions_on_Censorship']\n",
    "\n",
    "for col in featureIntCols:\n",
    "  df[col] = pd.to_numeric(df[col], errors='coerce')\n",
    "\n",
    "#for col in featureBoolCols:\n",
    " # df[col] = df[col].map({'0': 0, '1': 1})\n",
    "\n",
    "ohe = dict()\n",
    "\n",
    "# Choose a seed so that this code is repeatable, and select some features for the model \n",
    "random.seed(42)\n",
    "originalStrCols = random.sample(featureStringCols,k=8)\n",
    "print(originalStrCols)\n",
    "#sampledBoolCols = random.sample(featureBoolCols,k=5)\n",
    "#print(sampledBoolCols)\n",
    "sampledIntCols = random.sample(featureIntCols,k=2)\n",
    "print(sampledIntCols)\n",
    "\n",
    "# Create an empty dataframe\n",
    "featureSub = pd.DataFrame()\n",
    "\n",
    "for col in originalStrCols:\n",
    "  ohe[col] = OneHotEncoder(sparse=False)\n",
    "  X = ohe[col].fit_transform(df[col].values.reshape(-1,1))\n",
    "  # See https://stackoverflow.com/a/4843172\n",
    "  dfOneHot = pd.DataFrame(X, columns = [col+'-'+str(int(i)) for i in range(X.shape[1])])\n",
    "  featureSub = pd.concat([featureSub, dfOneHot], axis=1)\n",
    "\n",
    "# Assign the index so that it matches that of the original df\n",
    "featureSub.set_axis(df.index, axis='index', inplace=True)\n",
    "\n",
    "# Add in the sampledBoolcols\n",
    "#featureSub = pd.concat([featureSub, df[sampledBoolCols]], axis=1)\n",
    "\n",
    "# Add in the sampledIntcols\n",
    "featureSub = pd.concat([featureSub, df[sampledIntCols]], axis=1)\n",
    "\n",
    "# fill NaN values in dataset\n",
    "featureSub.fillna(featureSub.mean(), inplace=True)"
   ]
  },
  {
   "cell_type": "code",
   "execution_count": 16,
   "metadata": {
    "scrolled": true
   },
   "outputs": [
    {
     "data": {
      "text/html": [
       "<div>\n",
       "<style scoped>\n",
       "    .dataframe tbody tr th:only-of-type {\n",
       "        vertical-align: middle;\n",
       "    }\n",
       "\n",
       "    .dataframe tbody tr th {\n",
       "        vertical-align: top;\n",
       "    }\n",
       "\n",
       "    .dataframe thead th {\n",
       "        text-align: right;\n",
       "    }\n",
       "</style>\n",
       "<table border=\"1\" class=\"dataframe\">\n",
       "  <thead>\n",
       "    <tr style=\"text-align: right;\">\n",
       "      <th></th>\n",
       "      <th>Web_Ordering-0</th>\n",
       "      <th>Web_Ordering-1</th>\n",
       "      <th>Web_Ordering-2</th>\n",
       "      <th>Years_on_Internet-0</th>\n",
       "      <th>Years_on_Internet-1</th>\n",
       "      <th>Years_on_Internet-2</th>\n",
       "      <th>Years_on_Internet-3</th>\n",
       "      <th>Years_on_Internet-4</th>\n",
       "      <th>Race-0</th>\n",
       "      <th>Race-1</th>\n",
       "      <th>...</th>\n",
       "      <th>Major_Geographical_Location-4</th>\n",
       "      <th>Major_Geographical_Location-5</th>\n",
       "      <th>Major_Geographical_Location-6</th>\n",
       "      <th>Major_Geographical_Location-7</th>\n",
       "      <th>Major_Geographical_Location-8</th>\n",
       "      <th>Major_Geographical_Location-9</th>\n",
       "      <th>Gender-0</th>\n",
       "      <th>Gender-1</th>\n",
       "      <th>Age</th>\n",
       "      <th>Opinions_on_Censorship</th>\n",
       "    </tr>\n",
       "  </thead>\n",
       "  <tbody>\n",
       "    <tr>\n",
       "      <th>0</th>\n",
       "      <td>0.0</td>\n",
       "      <td>0.0</td>\n",
       "      <td>1.0</td>\n",
       "      <td>1.0</td>\n",
       "      <td>0.0</td>\n",
       "      <td>0.0</td>\n",
       "      <td>0.0</td>\n",
       "      <td>0.0</td>\n",
       "      <td>0.0</td>\n",
       "      <td>0.0</td>\n",
       "      <td>...</td>\n",
       "      <td>0.0</td>\n",
       "      <td>0.0</td>\n",
       "      <td>0.0</td>\n",
       "      <td>0.0</td>\n",
       "      <td>1.0</td>\n",
       "      <td>0.0</td>\n",
       "      <td>0.0</td>\n",
       "      <td>1.0</td>\n",
       "      <td>41.0</td>\n",
       "      <td>1</td>\n",
       "    </tr>\n",
       "    <tr>\n",
       "      <th>1</th>\n",
       "      <td>0.0</td>\n",
       "      <td>0.0</td>\n",
       "      <td>1.0</td>\n",
       "      <td>0.0</td>\n",
       "      <td>0.0</td>\n",
       "      <td>0.0</td>\n",
       "      <td>0.0</td>\n",
       "      <td>1.0</td>\n",
       "      <td>0.0</td>\n",
       "      <td>0.0</td>\n",
       "      <td>...</td>\n",
       "      <td>0.0</td>\n",
       "      <td>0.0</td>\n",
       "      <td>0.0</td>\n",
       "      <td>0.0</td>\n",
       "      <td>1.0</td>\n",
       "      <td>0.0</td>\n",
       "      <td>1.0</td>\n",
       "      <td>0.0</td>\n",
       "      <td>28.0</td>\n",
       "      <td>1</td>\n",
       "    </tr>\n",
       "    <tr>\n",
       "      <th>2</th>\n",
       "      <td>0.0</td>\n",
       "      <td>0.0</td>\n",
       "      <td>1.0</td>\n",
       "      <td>1.0</td>\n",
       "      <td>0.0</td>\n",
       "      <td>0.0</td>\n",
       "      <td>0.0</td>\n",
       "      <td>0.0</td>\n",
       "      <td>0.0</td>\n",
       "      <td>0.0</td>\n",
       "      <td>...</td>\n",
       "      <td>0.0</td>\n",
       "      <td>0.0</td>\n",
       "      <td>0.0</td>\n",
       "      <td>0.0</td>\n",
       "      <td>1.0</td>\n",
       "      <td>0.0</td>\n",
       "      <td>0.0</td>\n",
       "      <td>1.0</td>\n",
       "      <td>25.0</td>\n",
       "      <td>4</td>\n",
       "    </tr>\n",
       "    <tr>\n",
       "      <th>3</th>\n",
       "      <td>0.0</td>\n",
       "      <td>0.0</td>\n",
       "      <td>1.0</td>\n",
       "      <td>1.0</td>\n",
       "      <td>0.0</td>\n",
       "      <td>0.0</td>\n",
       "      <td>0.0</td>\n",
       "      <td>0.0</td>\n",
       "      <td>0.0</td>\n",
       "      <td>0.0</td>\n",
       "      <td>...</td>\n",
       "      <td>0.0</td>\n",
       "      <td>0.0</td>\n",
       "      <td>0.0</td>\n",
       "      <td>0.0</td>\n",
       "      <td>1.0</td>\n",
       "      <td>0.0</td>\n",
       "      <td>1.0</td>\n",
       "      <td>0.0</td>\n",
       "      <td>28.0</td>\n",
       "      <td>1</td>\n",
       "    </tr>\n",
       "    <tr>\n",
       "      <th>4</th>\n",
       "      <td>0.0</td>\n",
       "      <td>0.0</td>\n",
       "      <td>1.0</td>\n",
       "      <td>1.0</td>\n",
       "      <td>0.0</td>\n",
       "      <td>0.0</td>\n",
       "      <td>0.0</td>\n",
       "      <td>0.0</td>\n",
       "      <td>0.0</td>\n",
       "      <td>0.0</td>\n",
       "      <td>...</td>\n",
       "      <td>0.0</td>\n",
       "      <td>0.0</td>\n",
       "      <td>0.0</td>\n",
       "      <td>0.0</td>\n",
       "      <td>0.0</td>\n",
       "      <td>0.0</td>\n",
       "      <td>0.0</td>\n",
       "      <td>1.0</td>\n",
       "      <td>17.0</td>\n",
       "      <td>1</td>\n",
       "    </tr>\n",
       "  </tbody>\n",
       "</table>\n",
       "<p>5 rows × 47 columns</p>\n",
       "</div>"
      ],
      "text/plain": [
       "   Web_Ordering-0  Web_Ordering-1  Web_Ordering-2  Years_on_Internet-0  \\\n",
       "0             0.0             0.0             1.0                  1.0   \n",
       "1             0.0             0.0             1.0                  0.0   \n",
       "2             0.0             0.0             1.0                  1.0   \n",
       "3             0.0             0.0             1.0                  1.0   \n",
       "4             0.0             0.0             1.0                  1.0   \n",
       "\n",
       "   Years_on_Internet-1  Years_on_Internet-2  Years_on_Internet-3  \\\n",
       "0                  0.0                  0.0                  0.0   \n",
       "1                  0.0                  0.0                  0.0   \n",
       "2                  0.0                  0.0                  0.0   \n",
       "3                  0.0                  0.0                  0.0   \n",
       "4                  0.0                  0.0                  0.0   \n",
       "\n",
       "   Years_on_Internet-4  Race-0  Race-1           ...            \\\n",
       "0                  0.0     0.0     0.0           ...             \n",
       "1                  1.0     0.0     0.0           ...             \n",
       "2                  0.0     0.0     0.0           ...             \n",
       "3                  0.0     0.0     0.0           ...             \n",
       "4                  0.0     0.0     0.0           ...             \n",
       "\n",
       "   Major_Geographical_Location-4  Major_Geographical_Location-5  \\\n",
       "0                            0.0                            0.0   \n",
       "1                            0.0                            0.0   \n",
       "2                            0.0                            0.0   \n",
       "3                            0.0                            0.0   \n",
       "4                            0.0                            0.0   \n",
       "\n",
       "   Major_Geographical_Location-6  Major_Geographical_Location-7  \\\n",
       "0                            0.0                            0.0   \n",
       "1                            0.0                            0.0   \n",
       "2                            0.0                            0.0   \n",
       "3                            0.0                            0.0   \n",
       "4                            0.0                            0.0   \n",
       "\n",
       "   Major_Geographical_Location-8  Major_Geographical_Location-9  Gender-0  \\\n",
       "0                            1.0                            0.0       0.0   \n",
       "1                            1.0                            0.0       1.0   \n",
       "2                            1.0                            0.0       0.0   \n",
       "3                            1.0                            0.0       1.0   \n",
       "4                            0.0                            0.0       0.0   \n",
       "\n",
       "   Gender-1   Age  Opinions_on_Censorship  \n",
       "0       1.0  41.0                       1  \n",
       "1       0.0  28.0                       1  \n",
       "2       1.0  25.0                       4  \n",
       "3       0.0  28.0                       1  \n",
       "4       1.0  17.0                       1  \n",
       "\n",
       "[5 rows x 47 columns]"
      ]
     },
     "execution_count": 16,
     "metadata": {},
     "output_type": "execute_result"
    }
   ],
   "source": [
    "featureSub.head()"
   ]
  },
  {
   "cell_type": "code",
   "execution_count": 17,
   "metadata": {},
   "outputs": [],
   "source": [
    "#EXPORT to CSV the chosen feature subset to work with in other classification algorithms\n",
    "featureSub.to_csv('oheTransformedData.csv', encoding='utf-8', index=False)"
   ]
  },
  {
   "cell_type": "markdown",
   "metadata": {},
   "source": [
    "We now have our data prepared both through selecting an interesting feature set, ensuring values are transformed to numeric values for use with the three classification algorithms and also prearing the new dataframe for analysis. "
   ]
  }
 ],
 "metadata": {
  "kernelspec": {
   "display_name": "Python 3",
   "language": "python",
   "name": "python3"
  },
  "language_info": {
   "codemirror_mode": {
    "name": "ipython",
    "version": 3
   },
   "file_extension": ".py",
   "mimetype": "text/x-python",
   "name": "python",
   "nbconvert_exporter": "python",
   "pygments_lexer": "ipython3",
   "version": "3.7.2"
  }
 },
 "nbformat": 4,
 "nbformat_minor": 2
}
