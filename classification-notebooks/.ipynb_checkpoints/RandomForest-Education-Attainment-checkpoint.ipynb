{
 "cells": [
  {
   "cell_type": "markdown",
   "metadata": {},
   "source": [
    "# Classification - RandomForest - Education Attainment"
   ]
  },
  {
   "cell_type": "code",
   "execution_count": 26,
   "metadata": {},
   "outputs": [],
   "source": [
    "# Import all utitlised libraries\n",
    "import numpy as np\n",
    "import pandas as pd\n",
    "from sklearn.model_selection import train_test_split\n",
    "from sklearn.preprocessing import StandardScaler\n",
    "from sklearn.ensemble import RandomForestClassifier\n",
    "from sklearn.metrics import confusion_matrix\n",
    "from sklearn.externals import joblib\n",
    "from sklearn.metrics import confusion_matrix, accuracy_score, classification_report"
   ]
  },
  {
   "cell_type": "markdown",
   "metadata": {},
   "source": [
    "Next we import and further prepare our data by evaluating the columns."
   ]
  },
  {
   "cell_type": "code",
   "execution_count": 27,
   "metadata": {},
   "outputs": [
    {
     "name": "stdout",
     "output_type": "stream",
     "text": [
      "['Masters' 'Some_College' 'College' 'High_School' 'Professional' 'Grammar'\n",
      " 'Special' 'Doctoral' 'Other']\n"
     ]
    },
    {
     "data": {
      "text/html": [
       "<div>\n",
       "<style scoped>\n",
       "    .dataframe tbody tr th:only-of-type {\n",
       "        vertical-align: middle;\n",
       "    }\n",
       "\n",
       "    .dataframe tbody tr th {\n",
       "        vertical-align: top;\n",
       "    }\n",
       "\n",
       "    .dataframe thead th {\n",
       "        text-align: right;\n",
       "    }\n",
       "</style>\n",
       "<table border=\"1\" class=\"dataframe\">\n",
       "  <thead>\n",
       "    <tr style=\"text-align: right;\">\n",
       "      <th></th>\n",
       "      <th>Actual_Time</th>\n",
       "      <th>Age</th>\n",
       "      <th>Country</th>\n",
       "      <th>Household_Income</th>\n",
       "      <th>Marital_Status</th>\n",
       "      <th>Primary_Computing_Platform</th>\n",
       "      <th>Primary_Place_of_WWW_Access</th>\n",
       "      <th>Who_Pays_for_Access_Parents</th>\n",
       "      <th>Who_Pays_for_Access_School</th>\n",
       "      <th>Willingness_to_Pay_Fees</th>\n",
       "    </tr>\n",
       "  </thead>\n",
       "  <tbody>\n",
       "    <tr>\n",
       "      <th>0</th>\n",
       "      <td>14</td>\n",
       "      <td>31</td>\n",
       "      <td>114</td>\n",
       "      <td>7</td>\n",
       "      <td>1</td>\n",
       "      <td>3</td>\n",
       "      <td>5</td>\n",
       "      <td>0</td>\n",
       "      <td>0</td>\n",
       "      <td>4</td>\n",
       "    </tr>\n",
       "    <tr>\n",
       "      <th>1</th>\n",
       "      <td>13</td>\n",
       "      <td>18</td>\n",
       "      <td>114</td>\n",
       "      <td>8</td>\n",
       "      <td>5</td>\n",
       "      <td>10</td>\n",
       "      <td>2</td>\n",
       "      <td>0</td>\n",
       "      <td>0</td>\n",
       "      <td>0</td>\n",
       "    </tr>\n",
       "    <tr>\n",
       "      <th>2</th>\n",
       "      <td>34</td>\n",
       "      <td>15</td>\n",
       "      <td>31</td>\n",
       "      <td>7</td>\n",
       "      <td>3</td>\n",
       "      <td>10</td>\n",
       "      <td>5</td>\n",
       "      <td>0</td>\n",
       "      <td>0</td>\n",
       "      <td>4</td>\n",
       "    </tr>\n",
       "    <tr>\n",
       "      <th>3</th>\n",
       "      <td>40</td>\n",
       "      <td>18</td>\n",
       "      <td>41</td>\n",
       "      <td>4</td>\n",
       "      <td>3</td>\n",
       "      <td>10</td>\n",
       "      <td>2</td>\n",
       "      <td>0</td>\n",
       "      <td>0</td>\n",
       "      <td>0</td>\n",
       "    </tr>\n",
       "    <tr>\n",
       "      <th>4</th>\n",
       "      <td>24</td>\n",
       "      <td>7</td>\n",
       "      <td>88</td>\n",
       "      <td>8</td>\n",
       "      <td>5</td>\n",
       "      <td>10</td>\n",
       "      <td>4</td>\n",
       "      <td>0</td>\n",
       "      <td>0</td>\n",
       "      <td>0</td>\n",
       "    </tr>\n",
       "  </tbody>\n",
       "</table>\n",
       "</div>"
      ],
      "text/plain": [
       "   Actual_Time  Age  Country  Household_Income  Marital_Status  \\\n",
       "0           14   31      114                 7               1   \n",
       "1           13   18      114                 8               5   \n",
       "2           34   15       31                 7               3   \n",
       "3           40   18       41                 4               3   \n",
       "4           24    7       88                 8               5   \n",
       "\n",
       "   Primary_Computing_Platform  Primary_Place_of_WWW_Access  \\\n",
       "0                           3                            5   \n",
       "1                          10                            2   \n",
       "2                          10                            5   \n",
       "3                          10                            2   \n",
       "4                          10                            4   \n",
       "\n",
       "   Who_Pays_for_Access_Parents  Who_Pays_for_Access_School  \\\n",
       "0                            0                           0   \n",
       "1                            0                           0   \n",
       "2                            0                           0   \n",
       "3                            0                           0   \n",
       "4                            0                           0   \n",
       "\n",
       "   Willingness_to_Pay_Fees  \n",
       "0                        4  \n",
       "1                        0  \n",
       "2                        4  \n",
       "3                        0  \n",
       "4                        0  "
      ]
     },
     "execution_count": 27,
     "metadata": {},
     "output_type": "execute_result"
    }
   ],
   "source": [
    "originalDF = pd.read_csv('educationFeatureSubset.csv')\n",
    "\n",
    "# Next we check the Education_Attainment options in the dataset for use with classification\n",
    "print(originalDF.Education_Attainment.unique())\n",
    "\n",
    "# Now we replace those values with integers for use with the classification algorithm\n",
    "education_values = {\"Education_Attainment\": {\"Masters\": 1, \"Some_College\": 2, \"College\": 3, \"High_School\": 4, \"Professional\": 5, \"Grammar\": 6, \"Special\": 7, \"Doctoral\": 8, \"Other\": 9}}\n",
    "originalDF.replace(education_values, inplace=True)\n",
    "\n",
    "featureDF = originalDF[originalDF.columns.difference(['Education_Attainment', 'Unnamed: 0'])]\n",
    "featureDF.head(5)"
   ]
  },
  {
   "cell_type": "markdown",
   "metadata": {},
   "source": [
    "Next, I separate the columns into dependent and independent variables (or features and labels). Then you split those variables into a training and test set."
   ]
  },
  {
   "cell_type": "code",
   "execution_count": 28,
   "metadata": {},
   "outputs": [],
   "source": [
    "#Splitting the data into independent and dependent variables\n",
    "X, y = featureDF, originalDF['Education_Attainment']"
   ]
  },
  {
   "cell_type": "code",
   "execution_count": 29,
   "metadata": {},
   "outputs": [],
   "source": [
    "# Creating the Training and Test set from data\n",
    "X_train, X_test, y_train, y_test = train_test_split(X, y, test_size = 0.3)"
   ]
  },
  {
   "cell_type": "markdown",
   "metadata": {},
   "source": [
    "After data is normalised and split I trained the model on the training set and perform predictions on the test set."
   ]
  },
  {
   "cell_type": "code",
   "execution_count": 30,
   "metadata": {},
   "outputs": [
    {
     "name": "stdout",
     "output_type": "stream",
     "text": [
      "RF accuracy: TRAINING 0.9992932862190813\n",
      "RF accuracy: TESTING 0.3880646224859875\n"
     ]
    }
   ],
   "source": [
    "# Fitting Random Forest Classification to the Training set\n",
    "classifier = RandomForestClassifier(n_estimators=100)\n",
    "classifier.fit(X_train, y_train)\n",
    "\n",
    "print ('RF accuracy: TRAINING', classifier.score(X_train,y_train))\n",
    "print ('RF accuracy: TESTING', classifier.score(X_test,y_test))\n",
    "\n",
    "predict = classifier.predict(X_test)"
   ]
  },
  {
   "cell_type": "markdown",
   "metadata": {},
   "source": [
    "After training, I checked the accuracy using actual and predicted values."
   ]
  },
  {
   "cell_type": "code",
   "execution_count": 31,
   "metadata": {},
   "outputs": [
    {
     "name": "stdout",
     "output_type": "stream",
     "text": [
      "Accuracy: 0.3880646224859875\n"
     ]
    }
   ],
   "source": [
    "#Import scikit-learn metrics module for accuracy calculation\n",
    "from sklearn import metrics\n",
    "# Model Accuracy, how often is the classifier correct?\n",
    "print(\"Accuracy:\",metrics.accuracy_score(y_test, predict))"
   ]
  },
  {
   "cell_type": "markdown",
   "metadata": {},
   "source": [
    "As you can see above our training score is 99% while the tesing data score sits at 38%"
   ]
  },
  {
   "cell_type": "code",
   "execution_count": 32,
   "metadata": {},
   "outputs": [
    {
     "data": {
      "text/plain": [
       "array([1])"
      ]
     },
     "execution_count": 32,
     "metadata": {},
     "output_type": "execute_result"
    }
   ],
   "source": [
    "classifier.predict([[14,31,114,7,1,3,5,0,0,4]])"
   ]
  },
  {
   "cell_type": "markdown",
   "metadata": {},
   "source": [
    "Here, 1 indicates the occupation type Masters."
   ]
  },
  {
   "cell_type": "markdown",
   "metadata": {},
   "source": [
    "### Finding Important Features via RandomForest"
   ]
  },
  {
   "cell_type": "code",
   "execution_count": 33,
   "metadata": {},
   "outputs": [
    {
     "data": {
      "text/plain": [
       "Age                            0.236657\n",
       "Country                        0.202623\n",
       "Actual_Time                    0.144544\n",
       "Household_Income               0.116973\n",
       "Willingness_to_Pay_Fees        0.084651\n",
       "Primary_Computing_Platform     0.069469\n",
       "Marital_Status                 0.066540\n",
       "Primary_Place_of_WWW_Access    0.054241\n",
       "Who_Pays_for_Access_School     0.013857\n",
       "Who_Pays_for_Access_Parents    0.010446\n",
       "dtype: float64"
      ]
     },
     "execution_count": 33,
     "metadata": {},
     "output_type": "execute_result"
    }
   ],
   "source": [
    "import pandas as pd\n",
    "feature_imp = pd.Series(classifier.feature_importances_,index=featureDF.columns).sort_values(ascending=False)\n",
    "feature_imp"
   ]
  },
  {
   "cell_type": "markdown",
   "metadata": {},
   "source": [
    "As we can see the features are ranked in terms of importance. Age and Country are the most significant features for this classification algorithm it would appear."
   ]
  },
  {
   "cell_type": "code",
   "execution_count": 34,
   "metadata": {},
   "outputs": [
    {
     "name": "stderr",
     "output_type": "stream",
     "text": [
      "No handles with labels found to put in legend.\n"
     ]
    },
    {
     "data": {
      "image/png": "[encoded data removed]",
      "text/plain": [
       "<Figure size 432x288 with 1 Axes>"
      ]
     },
     "metadata": {
      "needs_background": "light"
     },
     "output_type": "display_data"
    }
   ],
   "source": [
    "import matplotlib.pyplot as plt\n",
    "import seaborn as sns\n",
    "%matplotlib inline\n",
    "# Creating a bar plot\n",
    "sns.barplot(x=feature_imp, y=feature_imp.index)\n",
    "# Add labels to your graph\n",
    "plt.xlabel('Feature Importance Score')\n",
    "plt.ylabel('Features')\n",
    "plt.title(\"Visualizing Important Features\")\n",
    "plt.legend()\n",
    "plt.show()"
   ]
  },
  {
   "cell_type": "markdown",
   "metadata": {},
   "source": [
    "Now I will generate the Model using Selected Features\n",
    "Here, you can remove the \"Who_Pays_for_Access_School\" and \"Who_Pays_for_Access_Parents\" features because they have very low importance, and select the 8 remaining features."
   ]
  },
  {
   "cell_type": "code",
   "execution_count": 35,
   "metadata": {},
   "outputs": [],
   "source": [
    "# Split dataset into features and labels\n",
    "X=featureDF[['Age', 'Country', 'Actual_Time', 'Primary_Computing_Platform', 'Marital_Status', 'Primary_Place_of_WWW_Access', 'Willingness_to_Pay_Fees', 'Household_Income']]  # Removed feature \"web ordering and opinions on censorship\"\n",
    "y=originalDF['Education_Attainment']                                       \n",
    "# Split dataset into training set and test set\n",
    "X_train, X_test, y_train, y_test = train_test_split(X, y, test_size=0.70, random_state=5) # 70% training and 30% test"
   ]
  },
  {
   "cell_type": "markdown",
   "metadata": {},
   "source": [
    "After spliting the data, I generated a new model on the selected training set features, perform predictions on the selected test set features, and compare actual and predicted values."
   ]
  },
  {
   "cell_type": "code",
   "execution_count": 36,
   "metadata": {},
   "outputs": [
    {
     "name": "stdout",
     "output_type": "stream",
     "text": [
      "Accuracy: 0.39768230638778973\n"
     ]
    }
   ],
   "source": [
    "#Create a Gaussian Classifier\n",
    "clf=RandomForestClassifier(n_estimators=100)\n",
    "\n",
    "#Train the model using the training sets y_pred=clf.predict(X_test)\n",
    "clf.fit(X_train,y_train)\n",
    "\n",
    "# prediction on test set\n",
    "y_pred=clf.predict(X_test)\n",
    "\n",
    "#Import scikit-learn metrics module for accuracy calculation\n",
    "from sklearn import metrics\n",
    "# Model Accuracy, how often is the classifier correct?\n",
    "print(\"Accuracy:\",metrics.accuracy_score(y_test, y_pred))"
   ]
  },
  {
   "cell_type": "markdown",
   "metadata": {},
   "source": [
    "You can see that after removing the least important features (\"Who_Pays_for_Access_School\" and \"Who_Pays_for_Access_Parents\" ), the accuracy has not increased significantly (1%). I would have thought that because I removed misleading data and noise, this would have resuled in an increased accuracy. A lesser amount of features has however reduced the training time."
   ]
  },
  {
   "cell_type": "markdown",
   "metadata": {},
   "source": [
    "## PCA Transformation"
   ]
  },
  {
   "cell_type": "markdown",
   "metadata": {},
   "source": [
    "Next I will try PCA on my data to see if this improves accuracy."
   ]
  },
  {
   "cell_type": "code",
   "execution_count": 37,
   "metadata": {},
   "outputs": [
    {
     "data": {
      "text/plain": [
       "array([[ 57.36962375, -16.37647085],\n",
       "       [-27.57134076,   6.41815532],\n",
       "       [  4.94621079,  16.11757123],\n",
       "       [ 50.29225037,   4.1929428 ],\n",
       "       [ 43.99646606,  17.20797019]])"
      ]
     },
     "execution_count": 37,
     "metadata": {},
     "output_type": "execute_result"
    }
   ],
   "source": [
    "from sklearn.decomposition import PCA\n",
    "\n",
    "# Creating the Training and Test set from data\n",
    "X_train, X_test, y_train, y_test = train_test_split(X, y, test_size = 0.3)\n",
    "\n",
    "pca_model = PCA(n_components=2)\n",
    "pca_model.fit(X_train)\n",
    "X_train = pca_model.transform(X_train)\n",
    "X_test = pca_model.transform(X_test)\n",
    "\n",
    "# 2-Dimensions\n",
    "X_train[:5]"
   ]
  },
  {
   "cell_type": "code",
   "execution_count": 38,
   "metadata": {},
   "outputs": [
    {
     "name": "stdout",
     "output_type": "stream",
     "text": [
      "RF accuracy: TRAINING 0.9990106007067138\n",
      "RF accuracy: TESTING 0.314540059347181\n"
     ]
    }
   ],
   "source": [
    "# Fitting Random Forest Classification to the Training set\n",
    "# Fitting Random Forest Classification to the Training set\n",
    "classifier = RandomForestClassifier(n_estimators=100)\n",
    "classifier.fit(X_train, y_train)\n",
    "\n",
    "print ('RF accuracy: TRAINING', classifier.score(X_train,y_train))\n",
    "print ('RF accuracy: TESTING', classifier.score(X_test,y_test))\n",
    "\n",
    "predict = classifier.predict(X_test)"
   ]
  },
  {
   "cell_type": "markdown",
   "metadata": {},
   "source": [
    "As you can see above our training score is 99% while the tesing data score sits at 31%. This is reduced from the original after using PCA on the dataset which is not optimal."
   ]
  },
  {
   "cell_type": "code",
   "execution_count": 39,
   "metadata": {},
   "outputs": [
    {
     "data": {
      "text/plain": [
       "array([7])"
      ]
     },
     "execution_count": 39,
     "metadata": {},
     "output_type": "execute_result"
    }
   ],
   "source": [
    "classifier.predict([[1,3]])"
   ]
  },
  {
   "cell_type": "markdown",
   "metadata": {},
   "source": [
    "Here, 7 indicates the occupation type Special."
   ]
  },
  {
   "cell_type": "markdown",
   "metadata": {},
   "source": [
    "## Finding Important Features via RandomForest"
   ]
  },
  {
   "cell_type": "code",
   "execution_count": 40,
   "metadata": {},
   "outputs": [
    {
     "name": "stderr",
     "output_type": "stream",
     "text": [
      "No handles with labels found to put in legend.\n"
     ]
    },
    {
     "data": {
      "image/png": "[encoded data removed]",
      "text/plain": [
       "<Figure size 432x288 with 1 Axes>"
      ]
     },
     "metadata": {
      "needs_background": "light"
     },
     "output_type": "display_data"
    }
   ],
   "source": [
    "import matplotlib.pyplot as plt\n",
    "import seaborn as sns\n",
    "%matplotlib inline\n",
    "# Creating a bar plot\n",
    "sns.barplot(x=classifier.feature_importances_, y=['pca feature 1', 'pca feature 2'])\n",
    "# Add labels to your graph\n",
    "plt.xlabel('Feature Importance Score')\n",
    "plt.ylabel('Features')\n",
    "plt.title(\"Visualizing Important Features\")\n",
    "plt.legend()\n",
    "plt.show()"
   ]
  },
  {
   "cell_type": "code",
   "execution_count": 41,
   "metadata": {},
   "outputs": [
    {
     "name": "stdout",
     "output_type": "stream",
     "text": [
      "[('Actual_Time', 0.4911851307118258), ('Age', 0.5088148692881742)]\n"
     ]
    },
    {
     "data": {
      "text/plain": [
       "['randomForest/randomforestmodelEAPCA.pkl']"
      ]
     },
     "execution_count": 41,
     "metadata": {},
     "output_type": "execute_result"
    }
   ],
   "source": [
    "print(list(zip(featureDF, classifier.feature_importances_)))\n",
    "joblib.dump(classifier, 'randomForest/randomforestmodelEAPCA.pkl')"
   ]
  },
  {
   "cell_type": "markdown",
   "metadata": {},
   "source": [
    "As indicated above, our reduced PCA features of importance (likely the only two columns left with PCA) are Age and Actual Time"
   ]
  },
  {
   "cell_type": "markdown",
   "metadata": {},
   "source": [
    "To conclude it is clear from the comparison that PCA feature reduction has not improved the prediction accuracy of the classification algorithm with this set of features. However from review of the initial top features identified via Feature Selection and Univriate selection it does look like the resulting most top features indicated at that stage were identified and chosen with PCA (Age and Actual Time)"
   ]
  },
  {
   "cell_type": "markdown",
   "metadata": {},
   "source": [
    "# Performance and Comparison:\n",
    "\n",
    "In summary RandomForest classification has been performed on both a normal and PCA reduced data set for comparison in this analysis for Education_Attainment prediction.\n",
    "\n",
    "Performance\n",
    "* RandomForest did not have a strong performance for this predicted value with this data set it is clear. \n",
    "* It did provide helpful methods of its own to reduce the feature set further using the feature_importance function.\n",
    "* It appears that the reduction in data reduced the accuracy of the model.\n",
    "* PCA did not help performance of this predictor overall either, this did not provide improvement in the model accuracy.\n",
    "* There was possibly too much distance and noise in the dataset despite best efforts to convert and reduce the feature subset.\n",
    "\n",
    "Comparison\n",
    "* Compared to the other algorithms used (Decision tree and K-nearest neighbors) it is quite flexible and easy to implement.\n",
    "* It does not suffer from the overfitting problem unlike others(K-nearest). The main reason is that it takes the average of all the predictions, which cancels out the biases. This makes me think that this feature set is a weak selection as opposed to being truly overfitted.\n",
    "* You can get the relative feature importance, which helps in selecting the most contributing features for the classifier.\n",
    "* In comparison to decision trees the model is difficult to interpret, where you can easily make a decision by following the path in the decision tree you do not have that option here.\n",
    "* Good at indicating important features (Age versus Age and Country in PCA reduction dataset)\n",
    "* Of the two RandomForest labels Major Occupation performed significantly better than Education Attainment. So this was the lesser performing label of the two with this algorithm."
   ]
  }
 ],
 "metadata": {
  "kernelspec": {
   "display_name": "Python 3",
   "language": "python",
   "name": "python3"
  },
  "language_info": {
   "codemirror_mode": {
    "name": "ipython",
    "version": 3
   },
   "file_extension": ".py",
   "mimetype": "text/x-python",
   "name": "python",
   "nbconvert_exporter": "python",
   "pygments_lexer": "ipython3",
   "version": "3.7.2"
  }
 },
 "nbformat": 4,
 "nbformat_minor": 5
}
