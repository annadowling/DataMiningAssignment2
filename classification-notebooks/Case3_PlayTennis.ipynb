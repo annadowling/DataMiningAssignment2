{
 "cells": [
  {
   "cell_type": "markdown",
   "metadata": {},
   "source": [
    "# Using Decision Trees: detailed example\n",
    "\n",
    "The _Play Tennis_ example data (from Mitchell (1997) _Machine Learning_) used in the notes for Week 6 is a nice, relatively small example.\n",
    "\n",
    "The predictors are discrete-valued labels, making the decision splits easier to understand.\n",
    "\n",
    "The first step is to read the data."
   ]
  },
  {
   "cell_type": "code",
   "execution_count": 1,
   "metadata": {},
   "outputs": [
    {
     "name": "stdout",
     "output_type": "stream",
     "text": [
      "     outlook  temp humidity windy play\n",
      "0      sunny   hot     high  fals   no\n",
      "1      sunny   hot     high   tru   no\n",
      "2   overcast   hot     high  fals  yes\n",
      "3      rainy  mild     high  fals  yes\n",
      "4      rainy  cool   normal  fals  yes\n",
      "5      rainy  cool   normal   tru   no\n",
      "6   overcast  cool   normal   tru  yes\n",
      "7      sunny  mild     high  fals   no\n",
      "8      sunny  cool   normal  fals  yes\n",
      "9      rainy  mild   normal  fals  yes\n",
      "10     sunny  mild   normal   tru  yes\n",
      "11  overcast  mild     high   tru  yes\n",
      "12  overcast   hot   normal  fals  yes\n",
      "13     rainy  mild     high   tru   no\n"
     ]
    }
   ],
   "source": [
    "import math\n",
    "import pandas as pd\n",
    "import pprint\n",
    "pp = pprint.PrettyPrinter(indent=2)\n",
    "df = pd.read_csv(\"playTennis.csv\",header=0,quotechar=\"'\")\n",
    "print(df)"
   ]
  },
  {
   "cell_type": "markdown",
   "metadata": {},
   "source": [
    "For convenience, I have created a function to evaluate the _entropy_ function `H`.\n",
    "\n",
    "It looks more complex than it is - mainly because I assemble the calculation in a string, for teaching purposes. This string is returned to the caller and `eval`uated there by the calling program.\n",
    "\n",
    "Note that `H` has two forms, depending on whether it is Level 1 (applies to the overall set: arguments `predNameB` and `predLabelB` are each empty strings and `pd` evaluates to the number of rows in the overall set) or Level 2 (when it is conditional on a setting of one of the predictors, specified by `predNameB` and `predLabelB` and `pd` is also more specific).\n",
    "\n",
    "If a particular predictor setting does not arise for a given class setting, the row count `pn` is zero and the log term needs special treatment. The log of zero is minus infinity, but the log term itself is multipled by zero, so the two multiplied together is taken as zero.."
   ]
  },
  {
   "cell_type": "code",
   "execution_count": 6,
   "metadata": {},
   "outputs": [],
   "source": [
    "def calcH(predNameB,predLabelB,pd):\n",
    "  acc = \"\"\n",
    "  for classLabel in labels[className]:\n",
    "    pns = \"rowCount[className]\"+predNameB+\"[classLabel]\"+predLabelB\n",
    "    pn = eval(pns)\n",
    "    p = \"(\"+str(pn) +\"/\" + str(pd)+\")\"\n",
    "    if (pn == 0):\n",
    "      acc += \" -\" + p + \" \"\n",
    "    else:\n",
    "      acc += \" -\" + p + \" * math.log(\" + p + \", 2) \"\n",
    "  return acc"
   ]
  },
  {
   "cell_type": "markdown",
   "metadata": {},
   "source": [
    "## Preliminary: Deriving the row counts\n",
    "\n",
    "We now start to count rows depending on various (combinations of) settings. We use a rowCount set to store the counts. The first dictionary element gets the count of `'ALL'` rows.\n",
    "\n",
    "We then get a list of the column names `colNames`and the names of the class to be predicted `className`.\n",
    "\n",
    "Looping over the column names, we ask what the unique list of labels is for each column name.\n",
    "\n",
    "We can then loop over each of these labels and count the number of rows for which this column name takes a particular label value."
   ]
  },
  {
   "cell_type": "code",
   "execution_count": 3,
   "metadata": {},
   "outputs": [
    {
     "name": "stdout",
     "output_type": "stream",
     "text": [
      "{ 'ALL': 14,\n",
      "  'humidity': {'high': 7, 'normal': 7},\n",
      "  'outlook': {'overcast': 4, 'rainy': 5, 'sunny': 5},\n",
      "  'play': {'no': 5, 'yes': 9},\n",
      "  'temp': {'cool': 4, 'hot': 4, 'mild': 6},\n",
      "  'windy': {'fals': 8, 'tru': 6}}\n"
     ]
    }
   ],
   "source": [
    "rowCount = {}\n",
    "rowCount[\"ALL\"] = len(df.index)\n",
    "colNames = list(df.columns.values)\n",
    "className = \"play\"\n",
    "labels = {}\n",
    "for colName in colNames:\n",
    "  labels[colName] = df[colName].unique().tolist()\n",
    "  rowCount[colName] = {}\n",
    "  for label in labels[colName]:\n",
    "    rowCount[colName][label] = len(df.loc[df[colName] == label].index)\n",
    "pp.pprint(rowCount)"
   ]
  },
  {
   "cell_type": "markdown",
   "metadata": {},
   "source": [
    "For the Decision Tree classifier, we need to go to Level 2 also.\n",
    "\n",
    "Therefore we also need to split the predictor counts above based on whether the decision was to play or not.\n",
    "\n",
    "Our first step is to use a _list comprehension_ to return a list of the predictor column names only `predNames`.\n",
    "\n",
    "We can then loop over just the predictors.\n",
    "\n",
    "The resulting `rowCount` values depend on both the `className` = `classLabel` and the `predName` = `predLabel` conditions.\n",
    "\n",
    "We then print the rowCount variable and see that `rowCount` has been extended with these counts.\n"
   ]
  },
  {
   "cell_type": "code",
   "execution_count": 4,
   "metadata": {},
   "outputs": [
    {
     "name": "stdout",
     "output_type": "stream",
     "text": [
      "{ 'ALL': 14,\n",
      "  'humidity': {'high': 7, 'normal': 7},\n",
      "  'outlook': {'overcast': 4, 'rainy': 5, 'sunny': 5},\n",
      "  'play': { 'humidity': { 'no': {'high': 4, 'normal': 1},\n",
      "                          'yes': {'high': 3, 'normal': 6}},\n",
      "            'no': 5,\n",
      "            'outlook': { 'no': {'overcast': 0, 'rainy': 2, 'sunny': 3},\n",
      "                         'yes': {'overcast': 4, 'rainy': 3, 'sunny': 2}},\n",
      "            'temp': { 'no': {'cool': 1, 'hot': 2, 'mild': 2},\n",
      "                      'yes': {'cool': 3, 'hot': 2, 'mild': 4}},\n",
      "            'windy': { 'no': {'fals': 2, 'tru': 3},\n",
      "                       'yes': {'fals': 6, 'tru': 3}},\n",
      "            'yes': 9},\n",
      "  'temp': {'cool': 4, 'hot': 4, 'mild': 6},\n",
      "  'windy': {'fals': 8, 'tru': 6}}\n"
     ]
    }
   ],
   "source": [
    "predNames = [x for x in colNames if className not in x]\n",
    "for predName in predNames:\n",
    "  rowCount[className][predName] = {}\n",
    "  for classLabel in labels[className]:\n",
    "    rowCount[className][predName][classLabel] = {}\n",
    "    for predLabel in labels[predName]:\n",
    "      rowCount[className][predName][classLabel][predLabel] = len(df.loc[(df[className] == classLabel) & (df[predName] == predLabel)].index)\n",
    "pp.pprint(rowCount)\n"
   ]
  },
  {
   "cell_type": "markdown",
   "metadata": {},
   "source": [
    "## Entropy calculations\n",
    "\n",
    "The top-level entropy calculation is calculated without any splits by predictor.\n",
    "\n",
    "It is calculated in terms of the class column (\"play\" in this case) which takes two values: \"yes\" and \"no\". As expected it takes a value based on how predictable this variable is.\n",
    "\n",
    "Note that the `calcH` function is called with empty strings for `predNameB`  and `predLabelB` and the `rowCount` for ALL settings.\n",
    "\n",
    "Also, the string returned by `calcH` needs to be evaluated to a number.\n",
    "\n",
    "We print both the `H` expression (as a string) and its value (as a number)."
   ]
  },
  {
   "cell_type": "code",
   "execution_count": 5,
   "metadata": {},
   "outputs": [
    {
     "name": "stdout",
     "output_type": "stream",
     "text": [
      " -(5/14) * math.log((5/14), 2)  -(9/14) * math.log((9/14), 2) \n",
      "0.9402859586706309\n"
     ]
    }
   ],
   "source": [
    "H = {}\n",
    "H[className] = {}\n",
    "acc = calcH(predNameB=\"\",predLabelB=\"\",pd=rowCount[\"ALL\"])\n",
    "H[className][\"\"] = eval(acc)\n",
    "\n",
    "print(acc)\n",
    "print(H[className][\"\"])"
   ]
  },
  {
   "cell_type": "markdown",
   "metadata": {},
   "source": [
    "We now consider the effects of splitting by each of the predictors in turn.\n",
    "\n",
    "In each case we scale by `p` which is the probability of a particular setting.\n",
    "\n",
    "The other term is of course the `H` for that setting with the class variable. Note that here `calcH` has `predNameB` and `predLabelB` that are not just empty strings.\n",
    "\n",
    "Using the `term` counter, we can tell whether we need to start a new accumulated string or just add to an existing accumulated string."
   ]
  },
  {
   "cell_type": "code",
   "execution_count": 9,
   "metadata": {},
   "outputs": [
    {
     "name": "stdout",
     "output_type": "stream",
     "text": [
      "(5/14) * ( -(3/5) * math.log((3/5), 2)  -(2/5) * math.log((2/5), 2) ) + (4/14) * ( -(0/4)  -(4/4) * math.log((4/4), 2) ) + (5/14) * ( -(2/5) * math.log((2/5), 2)  -(3/5) * math.log((3/5), 2) )\n",
      "Splitting on outlook gives entropy 0.6935361388961918\n",
      "(4/14) * ( -(2/4) * math.log((2/4), 2)  -(2/4) * math.log((2/4), 2) ) + (6/14) * ( -(2/6) * math.log((2/6), 2)  -(4/6) * math.log((4/6), 2) ) + (4/14) * ( -(1/4) * math.log((1/4), 2)  -(3/4) * math.log((3/4), 2) )\n",
      "Splitting on temp gives entropy 0.9110633930116763\n",
      "(7/14) * ( -(4/7) * math.log((4/7), 2)  -(3/7) * math.log((3/7), 2) ) + (7/14) * ( -(1/7) * math.log((1/7), 2)  -(6/7) * math.log((6/7), 2) )\n",
      "Splitting on humidity gives entropy 0.7884504573082896\n",
      "(8/14) * ( -(2/8) * math.log((2/8), 2)  -(6/8) * math.log((6/8), 2) ) + (6/14) * ( -(3/6) * math.log((3/6), 2)  -(3/6) * math.log((3/6), 2) )\n",
      "Splitting on windy gives entropy 0.8921589282623617\n"
     ]
    }
   ],
   "source": [
    "for predName in predNames:\n",
    "  term = 0\n",
    "  predNameB = '[\"'+predName+'\"]'\n",
    "  for predLabel in labels[predName]:\n",
    "    predLabelB = '[\"'+predLabel+'\"]'\n",
    "    p = \"(\" + str(rowCount[predName][predLabel]) + \"/\" + str(rowCount[\"ALL\"]) + \") * \"\n",
    "    a = p + \"(\"+calcH(predNameB,predLabelB,pd=rowCount[predName][predLabel])+\")\"\n",
    "    if (term == 0):\n",
    "      acc = a\n",
    "    else:\n",
    "      acc = acc + \" + \" + a\n",
    "    term += 1\n",
    "  H[className][predName] = eval(acc)\n",
    "\n",
    "  print(acc)\n",
    "  print(\"Splitting on {} gives entropy {}\".format(predName,H[className][predName]))\n"
   ]
  },
  {
   "cell_type": "markdown",
   "metadata": {},
   "source": [
    "So which predictor should we use in our node, to split the data to get the smallest entropy over the available predictors?\n",
    "\n",
    "It seems that the `outlook` variable is the one to choose!"
   ]
  },
  {
   "cell_type": "code",
   "execution_count": 14,
   "metadata": {},
   "outputs": [
    {
     "name": "stdout",
     "output_type": "stream",
     "text": [
      "The first split should be on the _outlook_ variable, reducing the entropy from 0.9402859586706309 to 0.6935361388961918\n"
     ]
    }
   ],
   "source": [
    "splitVariable = min(H[className], key=H[className].get)\n",
    "print(\"The first split should be on the _{}_ variable, reducing the entropy from {} to {}\".format(splitVariable,H[className][\"\"],H[className][splitVariable]))\n"
   ]
  },
  {
   "cell_type": "markdown",
   "metadata": {},
   "source": [
    "Note that this process can be continued as necessary, with it stopping when all leafs are _pure_ (have entropy = 0). According to https://codefying.com/2015/03/09/decision-tree-classifier-part-1/, the resulting decision tree is shown below:\n",
    "\n",
    "![View of Play Tennis decision tree](https://codefying.files.wordpress.com/2015/03/mltree.jpg)\n",
    "\n",
    "Note that the `temp` predictor is not used in the decision tree - it is not needed."
   ]
  },
  {
   "cell_type": "markdown",
   "metadata": {},
   "source": [
    "## Using sklearn to derive the decision tree\n",
    "\n",
    "Note that the treatment above is intended to help understanding. There is no need to program Decision Tree classifiers yourself!\n",
    "\n",
    "`scikit-learn` offers a `DecisionTreeClassifier` with the same sort of API as other supervised learning algorithms, alongside settings that are specific to Decision Trees.\n",
    "\n",
    "One awkward feature of the sklearn implementation is that it seems to be necessary to code the labels as integers. While there are tools to do this, it does mean that the resulting decision tree is not as easy to \"read\""
   ]
  }
 ],
 "metadata": {
  "kernelspec": {
   "display_name": "Python 3",
   "language": "python",
   "name": "python3"
  },
  "language_info": {
   "codemirror_mode": {
    "name": "ipython",
    "version": 3
   },
   "file_extension": ".py",
   "mimetype": "text/x-python",
   "name": "python",
   "nbconvert_exporter": "python",
   "pygments_lexer": "ipython3",
   "version": "3.6.8"
  }
 },
 "nbformat": 4,
 "nbformat_minor": 5
}
